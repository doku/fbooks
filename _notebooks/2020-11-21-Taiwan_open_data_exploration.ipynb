{
 "cells": [
  {
   "cell_type": "code",
   "execution_count": 19,
   "metadata": {},
   "outputs": [
    {
     "name": "stderr",
     "output_type": "stream",
     "text": [
      "Registered S3 methods overwritten by 'ggplot2':\n",
      "  method         from \n",
      "  [.quosures     rlang\n",
      "  c.quosures     rlang\n",
      "  print.quosures rlang\n",
      "Registered S3 method overwritten by 'rvest':\n",
      "  method            from\n",
      "  read_xml.response xml2\n",
      "-- Attaching packages --------------------------------------- tidyverse 1.2.1 --\n",
      "v ggplot2 3.1.1       v purrr   0.3.2  \n",
      "v tibble  2.1.1       v dplyr   0.8.0.1\n",
      "v tidyr   0.8.3       v stringr 1.4.0  \n",
      "v readr   1.3.1       v forcats 0.4.0  \n",
      "-- Conflicts ------------------------------------------ tidyverse_conflicts() --\n",
      "x dplyr::filter() masks stats::filter()\n",
      "x dplyr::lag()    masks stats::lag()\n"
     ]
    }
   ],
   "source": [
    "library(readODS)\n",
    "library(tidyverse)"
   ]
  },
  {
   "cell_type": "code",
   "execution_count": 4,
   "metadata": {},
   "outputs": [],
   "source": [
    "diabetes <- read_ods(\"diabetes_over_20.ods\")"
   ]
  },
  {
   "cell_type": "code",
   "execution_count": 5,
   "metadata": {},
   "outputs": [
    {
     "data": {
      "text/html": [
       "<table>\n",
       "<thead><tr><th scope=col>年份別</th><th scope=col>有效樣本數</th><th scope=col>合計 (%)</th><th scope=col>男性 (%)</th><th scope=col>女性 (%)</th></tr></thead>\n",
       "<tbody>\n",
       "\t<tr><td><span style=white-space:pre-wrap>&lt;U+6C11&gt;&lt;U+570B&gt;94-97&lt;U+5E74&gt;  </span></td><td>1577                                                                                     </td><td> 8.5                                                                                     </td><td>10.4                                                                                     </td><td> 6.6                                                                                     </td></tr>\n",
       "\t<tr><td>&lt;U+6C11&gt;&lt;U+570B&gt;102-103&lt;U+5E74&gt;</td><td>1460                                             </td><td>13.2                                             </td><td>16.2                                             </td><td>10.5                                             </td></tr>\n",
       "\t<tr><td>&lt;U+6C11&gt;&lt;U+570B&gt;102-104&lt;U+5E74&gt;</td><td>2195                                             </td><td>12.3                                             </td><td>14.5                                             </td><td>10.4                                             </td></tr>\n",
       "</tbody>\n",
       "</table>\n"
      ],
      "text/latex": [
       "\\begin{tabular}{r|lllll}\n",
       " 年份別 & 有效樣本數 & 合計 (\\%) & 男性 (\\%) & 女性 (\\%)\\\\\n",
       "\\hline\n",
       "\t <U+6C11><U+570B>94-97<U+5E74>   & 1577                            &  8.5                            & 10.4                            &  6.6                           \\\\\n",
       "\t <U+6C11><U+570B>102-103<U+5E74> & 1460                            & 13.2                            & 16.2                            & 10.5                           \\\\\n",
       "\t <U+6C11><U+570B>102-104<U+5E74> & 2195                            & 12.3                            & 14.5                            & 10.4                           \\\\\n",
       "\\end{tabular}\n"
      ],
      "text/markdown": [
       "\n",
       "| 年份別 | 有效樣本數 | 合計 (%) | 男性 (%) | 女性 (%) |\n",
       "|---|---|---|---|---|\n",
       "| <U+6C11><U+570B>94-97<U+5E74>   | 1577                            |  8.5                            | 10.4                            |  6.6                            |\n",
       "| <U+6C11><U+570B>102-103<U+5E74> | 1460                            | 13.2                            | 16.2                            | 10.5                            |\n",
       "| <U+6C11><U+570B>102-104<U+5E74> | 2195                            | 12.3                            | 14.5                            | 10.4                            |\n",
       "\n"
      ],
      "text/plain": [
       "  <U+5E74><U+4EFD><U+5225>                          <U+6709><U+6548><U+6A23><U+672C><U+6578>                              \n",
       "1 <U+6C11><U+570B>94-97<U+5E74>   1577                                    \n",
       "2 <U+6C11><U+570B>102-103<U+5E74> 1460                                    \n",
       "3 <U+6C11><U+570B>102-104<U+5E74> 2195                                    \n",
       "  <U+5408><U+8A08> (%)             <U+7537><U+6027> (%)             <U+5973><U+6027> (%)            \n",
       "1  8.5                 10.4                  6.6                \n",
       "2 13.2                 16.2                 10.5                \n",
       "3 12.3                 14.5                 10.4                "
      ]
     },
     "metadata": {},
     "output_type": "display_data"
    }
   ],
   "source": [
    "head(diabetes)"
   ]
  },
  {
   "cell_type": "code",
   "execution_count": 14,
   "metadata": {},
   "outputs": [],
   "source": [
    "colnames(diabetes) <- c(\"year\", \"survey_count\", \"total\", \"male\", \"female\")"
   ]
  },
  {
   "cell_type": "code",
   "execution_count": 16,
   "metadata": {},
   "outputs": [],
   "source": [
    "diabetes$cyear <- c(\"94-97\", \"102-103\", \"102-104\")"
   ]
  },
  {
   "cell_type": "code",
   "execution_count": 26,
   "metadata": {},
   "outputs": [
    {
     "data": {
      "text/html": [
       "<table>\n",
       "<thead><tr><th scope=col>year</th><th scope=col>survey_count</th><th scope=col>total</th><th scope=col>male</th><th scope=col>female</th><th scope=col>cyear</th></tr></thead>\n",
       "<tbody>\n",
       "\t<tr><td><span style=white-space:pre-wrap>&lt;U+6C11&gt;&lt;U+570B&gt;94-97&lt;U+5E74&gt;  </span></td><td>1577                                                                                     </td><td> 8.5                                                                                     </td><td>10.4                                                                                     </td><td> 6.6                                                                                     </td><td><span style=white-space:pre-wrap>94-97  </span>                                          </td></tr>\n",
       "\t<tr><td>&lt;U+6C11&gt;&lt;U+570B&gt;102-103&lt;U+5E74&gt;</td><td>1460                                             </td><td>13.2                                             </td><td>16.2                                             </td><td>10.5                                             </td><td>102-103                                          </td></tr>\n",
       "\t<tr><td>&lt;U+6C11&gt;&lt;U+570B&gt;102-104&lt;U+5E74&gt;</td><td>2195                                             </td><td>12.3                                             </td><td>14.5                                             </td><td>10.4                                             </td><td>102-104                                          </td></tr>\n",
       "</tbody>\n",
       "</table>\n"
      ],
      "text/latex": [
       "\\begin{tabular}{r|llllll}\n",
       " year & survey\\_count & total & male & female & cyear\\\\\n",
       "\\hline\n",
       "\t <U+6C11><U+570B>94-97<U+5E74>   & 1577                            &  8.5                            & 10.4                            &  6.6                            & 94-97                          \\\\\n",
       "\t <U+6C11><U+570B>102-103<U+5E74> & 1460                            & 13.2                            & 16.2                            & 10.5                            & 102-103                        \\\\\n",
       "\t <U+6C11><U+570B>102-104<U+5E74> & 2195                            & 12.3                            & 14.5                            & 10.4                            & 102-104                        \\\\\n",
       "\\end{tabular}\n"
      ],
      "text/markdown": [
       "\n",
       "| year | survey_count | total | male | female | cyear |\n",
       "|---|---|---|---|---|---|\n",
       "| <U+6C11><U+570B>94-97<U+5E74>   | 1577                            |  8.5                            | 10.4                            |  6.6                            | 94-97                           |\n",
       "| <U+6C11><U+570B>102-103<U+5E74> | 1460                            | 13.2                            | 16.2                            | 10.5                            | 102-103                         |\n",
       "| <U+6C11><U+570B>102-104<U+5E74> | 2195                            | 12.3                            | 14.5                            | 10.4                            | 102-104                         |\n",
       "\n"
      ],
      "text/plain": [
       "  year                            survey_count total male female cyear  \n",
       "1 <U+6C11><U+570B>94-97<U+5E74>   1577          8.5  10.4  6.6   94-97  \n",
       "2 <U+6C11><U+570B>102-103<U+5E74> 1460         13.2  16.2 10.5   102-103\n",
       "3 <U+6C11><U+570B>102-104<U+5E74> 2195         12.3  14.5 10.4   102-104"
      ]
     },
     "metadata": {},
     "output_type": "display_data"
    }
   ],
   "source": [
    "diabetes"
   ]
  },
  {
   "cell_type": "code",
   "execution_count": 36,
   "metadata": {},
   "outputs": [
    {
     "data": {
      "text/html": [
       "8.5"
      ],
      "text/latex": [
       "8.5"
      ],
      "text/markdown": [
       "8.5"
      ],
      "text/plain": [
       "[1] 8.5"
      ]
     },
     "metadata": {},
     "output_type": "display_data"
    },
    {
     "data": {
      "image/png": "[encoded data removed]",
      "text/plain": [
       "plot without title"
      ]
     },
     "metadata": {},
     "output_type": "display_data"
    }
   ],
   "source": [
    "#diabetes %>% ggplot(aes(x=\"cyear\", y=\"total\")) + geom_point()\n",
    "plot(diabetes$male, type=\"l\")\n",
    "lines(diabetes$total)\n",
    "lines(diabetes$female)\n",
    "(10.4 + 6.6) / 2"
   ]
  },
  {
   "cell_type": "code",
   "execution_count": 46,
   "metadata": {},
   "outputs": [],
   "source": [
    "excercise_rate_65 <- read_ods(\"65+excercise_rate.ods\")"
   ]
  },
  {
   "cell_type": "code",
   "execution_count": 51,
   "metadata": {},
   "outputs": [],
   "source": [
    "colnames(excercise_rate_65) <- c(\"year\", \"count\", \"total\", \"male\", \"female\")\n",
    "excercise_rate_65$cyear <- c(96,97,98,99,100, 101, 102, 103, 104)"
   ]
  },
  {
   "cell_type": "code",
   "execution_count": 55,
   "metadata": {},
   "outputs": [
    {
     "data": {
      "image/png": "[encoded data removed]",
      "text/plain": [
       "plot without title"
      ]
     },
     "metadata": {},
     "output_type": "display_data"
    }
   ],
   "source": [
    "plot(excercise_rate_65$total, type=\"l\")\n",
    "lines(excercise_rate_65$male, col=\"blue\")\n",
    "lines(excercise_rate_65$female, col=\"red\")"
   ]
  },
  {
   "cell_type": "code",
   "execution_count": 7,
   "metadata": {},
   "outputs": [
    {
     "name": "stderr",
     "output_type": "stream",
     "text": [
      "Your code contains a unicode char which cannot be displayed in your\n",
      "current locale and R will silently convert it to an escaped form when the\n",
      "R kernel executes this code. This can lead to subtle errors if you use\n",
      "such chars to do comparisons. For more information, please see\n",
      "https://github.com/IRkernel/repr/wiki/Problems-with-unicode-on-windows"
     ]
    },
    {
     "ename": "ERROR",
     "evalue": "Error in .parse_ods_file(file): file does not exist\n",
     "output_type": "error",
     "traceback": [
      "Error in .parse_ods_file(file): file does not exist\nTraceback:\n",
      "1. read_ods(\"99<U+5E74>30-70<U+6B72><U+56DB><U+5927><U+975E><U+50B3><U+67D3><U+75C5><U+4E4B><U+6B7B><U+4EA1><U+6A5F><U+7387>.ods\")",
      "2. .parse_ods_to_sheets(path)",
      "3. .parse_ods_file(file)",
      "4. stop(\"file does not exist\")"
     ]
    }
   ],
   "source": [
    "read_ods(\"99年30-70歲四大非傳染病之死亡機率.ods\")"
   ]
  },
  {
   "cell_type": "code",
   "execution_count": 57,
   "metadata": {},
   "outputs": [
    {
     "name": "stderr",
     "output_type": "stream",
     "text": [
      "Parsed with column specification:\n",
      "cols(\n",
      "  `<U+5B78><U+5E74><U+5EA6>` = col_double(),\n",
      "  `<U+5E74><U+9F61>` = col_double(),\n",
      "  `<U+7E3D><U+8A08>` = col_double(),\n",
      "  `<U+7537>` = col_double(),\n",
      "  `<U+5973>` = col_double()\n",
      ")\n"
     ]
    }
   ],
   "source": [
    "student_height <- read_csv(\"student_height_6-15old.csv\")"
   ]
  },
  {
   "cell_type": "code",
   "execution_count": 102,
   "metadata": {},
   "outputs": [],
   "source": [
    "colnames(student_height) <- c(\"year\", \"age\", \"total\", \"male\", \"female\")\n",
    "student_height$age <- as.factor(student_height$age)"
   ]
  },
  {
   "cell_type": "code",
   "execution_count": 103,
   "metadata": {},
   "outputs": [
    {
     "data": {
      "text/html": [
       "<table>\n",
       "<thead><tr><th scope=col>year</th><th scope=col>age</th><th scope=col>total</th><th scope=col>male</th><th scope=col>female</th></tr></thead>\n",
       "<tbody>\n",
       "\t<tr><td>96   </td><td>6    </td><td>117.1</td><td>117.6</td><td>116.6</td></tr>\n",
       "\t<tr><td>96   </td><td>7    </td><td>121.4</td><td>121.9</td><td>120.9</td></tr>\n",
       "\t<tr><td>96   </td><td>8    </td><td>127.1</td><td>127.5</td><td>126.7</td></tr>\n",
       "\t<tr><td>96   </td><td>9    </td><td>132.8</td><td>132.9</td><td>132.6</td></tr>\n",
       "\t<tr><td>96   </td><td>10   </td><td>138.8</td><td>138.5</td><td>139.3</td></tr>\n",
       "\t<tr><td>96   </td><td>11   </td><td>145.0</td><td>144.2</td><td>145.9</td></tr>\n",
       "\t<tr><td>96   </td><td>12   </td><td>151.4</td><td>151.2</td><td>151.6</td></tr>\n",
       "\t<tr><td>96   </td><td>13   </td><td>157.1</td><td>158.9</td><td>155.3</td></tr>\n",
       "\t<tr><td>96   </td><td>14   </td><td>161.1</td><td>164.7</td><td>157.3</td></tr>\n",
       "\t<tr><td>96   </td><td>15   </td><td>163.2</td><td>167.8</td><td>158.1</td></tr>\n",
       "\t<tr><td>97   </td><td>6    </td><td>117.2</td><td>117.6</td><td>116.7</td></tr>\n",
       "\t<tr><td>97   </td><td>7    </td><td>121.5</td><td>121.9</td><td>120.9</td></tr>\n",
       "\t<tr><td>97   </td><td>8    </td><td>127.3</td><td>127.7</td><td>126.8</td></tr>\n",
       "\t<tr><td>97   </td><td>9    </td><td>132.9</td><td>133.1</td><td>132.7</td></tr>\n",
       "\t<tr><td>97   </td><td>10   </td><td>138.8</td><td>138.4</td><td>139.1</td></tr>\n",
       "\t<tr><td>97   </td><td>11   </td><td>145.3</td><td>144.5</td><td>146.1</td></tr>\n",
       "\t<tr><td>97   </td><td>12   </td><td>151.4</td><td>151.3</td><td>151.6</td></tr>\n",
       "\t<tr><td>97   </td><td>13   </td><td>157.2</td><td>158.9</td><td>155.4</td></tr>\n",
       "\t<tr><td>97   </td><td>14   </td><td>161.3</td><td>165.0</td><td>157.3</td></tr>\n",
       "\t<tr><td>97   </td><td>15   </td><td>163.3</td><td>168.0</td><td>158.2</td></tr>\n",
       "\t<tr><td>98   </td><td>6    </td><td>117.3</td><td>117.8</td><td>116.8</td></tr>\n",
       "\t<tr><td>98   </td><td>7    </td><td>121.6</td><td>122.0</td><td>121.1</td></tr>\n",
       "\t<tr><td>98   </td><td>8    </td><td>127.3</td><td>127.7</td><td>126.8</td></tr>\n",
       "\t<tr><td>98   </td><td>9    </td><td>133.0</td><td>133.2</td><td>132.8</td></tr>\n",
       "\t<tr><td>98   </td><td>10   </td><td>138.8</td><td>138.4</td><td>139.1</td></tr>\n",
       "\t<tr><td>98   </td><td>11   </td><td>145.1</td><td>144.3</td><td>145.9</td></tr>\n",
       "\t<tr><td>98   </td><td>12   </td><td>151.6</td><td>151.5</td><td>151.7</td></tr>\n",
       "\t<tr><td>98   </td><td>13   </td><td>157.3</td><td>159.0</td><td>155.4</td></tr>\n",
       "\t<tr><td>98   </td><td>14   </td><td>161.2</td><td>164.9</td><td>157.3</td></tr>\n",
       "\t<tr><td>98   </td><td>15   </td><td>163.2</td><td>167.9</td><td>158.1</td></tr>\n",
       "\t<tr><td>...</td><td>...</td><td>...</td><td>...</td><td>...</td></tr>\n",
       "\t<tr><td>105  </td><td>6    </td><td>116.8</td><td>117.3</td><td>116.2</td></tr>\n",
       "\t<tr><td>105  </td><td>7    </td><td>121.2</td><td>121.7</td><td>120.7</td></tr>\n",
       "\t<tr><td>105  </td><td>8    </td><td>127.0</td><td>127.5</td><td>126.5</td></tr>\n",
       "\t<tr><td>105  </td><td>9    </td><td>132.9</td><td>133.2</td><td>132.6</td></tr>\n",
       "\t<tr><td>105  </td><td>10   </td><td>138.8</td><td>138.6</td><td>139.1</td></tr>\n",
       "\t<tr><td>105  </td><td>11   </td><td>145.1</td><td>144.4</td><td>145.9</td></tr>\n",
       "\t<tr><td>105  </td><td>12   </td><td>151.4</td><td>151.2</td><td>151.5</td></tr>\n",
       "\t<tr><td>105  </td><td>13   </td><td>157.1</td><td>158.7</td><td>155.3</td></tr>\n",
       "\t<tr><td>105  </td><td>14   </td><td>161.0</td><td>164.5</td><td>157.1</td></tr>\n",
       "\t<tr><td>105  </td><td>15   </td><td>163.2</td><td>167.9</td><td>157.9</td></tr>\n",
       "\t<tr><td>106  </td><td>6    </td><td>116.7</td><td>117.3</td><td>116.1</td></tr>\n",
       "\t<tr><td>106  </td><td>7    </td><td>121.0</td><td>121.5</td><td>120.4</td></tr>\n",
       "\t<tr><td>106  </td><td>8    </td><td>127.1</td><td>127.6</td><td>126.6</td></tr>\n",
       "\t<tr><td>106  </td><td>9    </td><td>132.8</td><td>133.1</td><td>132.5</td></tr>\n",
       "\t<tr><td>106  </td><td>10   </td><td>138.8</td><td>138.6</td><td>139.1</td></tr>\n",
       "\t<tr><td>106  </td><td>11   </td><td>145.2</td><td>144.5</td><td>145.9</td></tr>\n",
       "\t<tr><td>106  </td><td>12   </td><td>151.5</td><td>151.4</td><td>151.7</td></tr>\n",
       "\t<tr><td>106  </td><td>13   </td><td>157.1</td><td>158.7</td><td>155.3</td></tr>\n",
       "\t<tr><td>106  </td><td>14   </td><td>161.0</td><td>164.5</td><td>157.1</td></tr>\n",
       "\t<tr><td>106  </td><td>15   </td><td>163.3</td><td>168.0</td><td>158.1</td></tr>\n",
       "\t<tr><td>107  </td><td>6    </td><td>116.9</td><td>117.4</td><td>116.3</td></tr>\n",
       "\t<tr><td>107  </td><td>7    </td><td>121.2</td><td>121.7</td><td>120.6</td></tr>\n",
       "\t<tr><td>107  </td><td>8    </td><td>127.1</td><td>127.6</td><td>126.6</td></tr>\n",
       "\t<tr><td>107  </td><td>9    </td><td>133.1</td><td>133.4</td><td>132.9</td></tr>\n",
       "\t<tr><td>107  </td><td>10   </td><td>139.0</td><td>138.8</td><td>139.2</td></tr>\n",
       "\t<tr><td>107  </td><td>11   </td><td>145.4</td><td>144.7</td><td>146.1</td></tr>\n",
       "\t<tr><td>107  </td><td>12   </td><td>151.8</td><td>151.8</td><td>151.9</td></tr>\n",
       "\t<tr><td>107  </td><td>13   </td><td>157.6</td><td>159.3</td><td>155.8</td></tr>\n",
       "\t<tr><td>107  </td><td>14   </td><td>161.7</td><td>165.3</td><td>157.7</td></tr>\n",
       "\t<tr><td>107  </td><td>15   </td><td>164.1</td><td>168.8</td><td>158.6</td></tr>\n",
       "</tbody>\n",
       "</table>\n"
      ],
      "text/latex": [
       "\\begin{tabular}{r|lllll}\n",
       " year & age & total & male & female\\\\\n",
       "\\hline\n",
       "\t 96    & 6     & 117.1 & 117.6 & 116.6\\\\\n",
       "\t 96    & 7     & 121.4 & 121.9 & 120.9\\\\\n",
       "\t 96    & 8     & 127.1 & 127.5 & 126.7\\\\\n",
       "\t 96    & 9     & 132.8 & 132.9 & 132.6\\\\\n",
       "\t 96    & 10    & 138.8 & 138.5 & 139.3\\\\\n",
       "\t 96    & 11    & 145.0 & 144.2 & 145.9\\\\\n",
       "\t 96    & 12    & 151.4 & 151.2 & 151.6\\\\\n",
       "\t 96    & 13    & 157.1 & 158.9 & 155.3\\\\\n",
       "\t 96    & 14    & 161.1 & 164.7 & 157.3\\\\\n",
       "\t 96    & 15    & 163.2 & 167.8 & 158.1\\\\\n",
       "\t 97    & 6     & 117.2 & 117.6 & 116.7\\\\\n",
       "\t 97    & 7     & 121.5 & 121.9 & 120.9\\\\\n",
       "\t 97    & 8     & 127.3 & 127.7 & 126.8\\\\\n",
       "\t 97    & 9     & 132.9 & 133.1 & 132.7\\\\\n",
       "\t 97    & 10    & 138.8 & 138.4 & 139.1\\\\\n",
       "\t 97    & 11    & 145.3 & 144.5 & 146.1\\\\\n",
       "\t 97    & 12    & 151.4 & 151.3 & 151.6\\\\\n",
       "\t 97    & 13    & 157.2 & 158.9 & 155.4\\\\\n",
       "\t 97    & 14    & 161.3 & 165.0 & 157.3\\\\\n",
       "\t 97    & 15    & 163.3 & 168.0 & 158.2\\\\\n",
       "\t 98    & 6     & 117.3 & 117.8 & 116.8\\\\\n",
       "\t 98    & 7     & 121.6 & 122.0 & 121.1\\\\\n",
       "\t 98    & 8     & 127.3 & 127.7 & 126.8\\\\\n",
       "\t 98    & 9     & 133.0 & 133.2 & 132.8\\\\\n",
       "\t 98    & 10    & 138.8 & 138.4 & 139.1\\\\\n",
       "\t 98    & 11    & 145.1 & 144.3 & 145.9\\\\\n",
       "\t 98    & 12    & 151.6 & 151.5 & 151.7\\\\\n",
       "\t 98    & 13    & 157.3 & 159.0 & 155.4\\\\\n",
       "\t 98    & 14    & 161.2 & 164.9 & 157.3\\\\\n",
       "\t 98    & 15    & 163.2 & 167.9 & 158.1\\\\\n",
       "\t ... & ... & ... & ... & ...\\\\\n",
       "\t 105   & 6     & 116.8 & 117.3 & 116.2\\\\\n",
       "\t 105   & 7     & 121.2 & 121.7 & 120.7\\\\\n",
       "\t 105   & 8     & 127.0 & 127.5 & 126.5\\\\\n",
       "\t 105   & 9     & 132.9 & 133.2 & 132.6\\\\\n",
       "\t 105   & 10    & 138.8 & 138.6 & 139.1\\\\\n",
       "\t 105   & 11    & 145.1 & 144.4 & 145.9\\\\\n",
       "\t 105   & 12    & 151.4 & 151.2 & 151.5\\\\\n",
       "\t 105   & 13    & 157.1 & 158.7 & 155.3\\\\\n",
       "\t 105   & 14    & 161.0 & 164.5 & 157.1\\\\\n",
       "\t 105   & 15    & 163.2 & 167.9 & 157.9\\\\\n",
       "\t 106   & 6     & 116.7 & 117.3 & 116.1\\\\\n",
       "\t 106   & 7     & 121.0 & 121.5 & 120.4\\\\\n",
       "\t 106   & 8     & 127.1 & 127.6 & 126.6\\\\\n",
       "\t 106   & 9     & 132.8 & 133.1 & 132.5\\\\\n",
       "\t 106   & 10    & 138.8 & 138.6 & 139.1\\\\\n",
       "\t 106   & 11    & 145.2 & 144.5 & 145.9\\\\\n",
       "\t 106   & 12    & 151.5 & 151.4 & 151.7\\\\\n",
       "\t 106   & 13    & 157.1 & 158.7 & 155.3\\\\\n",
       "\t 106   & 14    & 161.0 & 164.5 & 157.1\\\\\n",
       "\t 106   & 15    & 163.3 & 168.0 & 158.1\\\\\n",
       "\t 107   & 6     & 116.9 & 117.4 & 116.3\\\\\n",
       "\t 107   & 7     & 121.2 & 121.7 & 120.6\\\\\n",
       "\t 107   & 8     & 127.1 & 127.6 & 126.6\\\\\n",
       "\t 107   & 9     & 133.1 & 133.4 & 132.9\\\\\n",
       "\t 107   & 10    & 139.0 & 138.8 & 139.2\\\\\n",
       "\t 107   & 11    & 145.4 & 144.7 & 146.1\\\\\n",
       "\t 107   & 12    & 151.8 & 151.8 & 151.9\\\\\n",
       "\t 107   & 13    & 157.6 & 159.3 & 155.8\\\\\n",
       "\t 107   & 14    & 161.7 & 165.3 & 157.7\\\\\n",
       "\t 107   & 15    & 164.1 & 168.8 & 158.6\\\\\n",
       "\\end{tabular}\n"
      ],
      "text/markdown": [
       "\n",
       "| year | age | total | male | female |\n",
       "|---|---|---|---|---|\n",
       "| 96    | 6     | 117.1 | 117.6 | 116.6 |\n",
       "| 96    | 7     | 121.4 | 121.9 | 120.9 |\n",
       "| 96    | 8     | 127.1 | 127.5 | 126.7 |\n",
       "| 96    | 9     | 132.8 | 132.9 | 132.6 |\n",
       "| 96    | 10    | 138.8 | 138.5 | 139.3 |\n",
       "| 96    | 11    | 145.0 | 144.2 | 145.9 |\n",
       "| 96    | 12    | 151.4 | 151.2 | 151.6 |\n",
       "| 96    | 13    | 157.1 | 158.9 | 155.3 |\n",
       "| 96    | 14    | 161.1 | 164.7 | 157.3 |\n",
       "| 96    | 15    | 163.2 | 167.8 | 158.1 |\n",
       "| 97    | 6     | 117.2 | 117.6 | 116.7 |\n",
       "| 97    | 7     | 121.5 | 121.9 | 120.9 |\n",
       "| 97    | 8     | 127.3 | 127.7 | 126.8 |\n",
       "| 97    | 9     | 132.9 | 133.1 | 132.7 |\n",
       "| 97    | 10    | 138.8 | 138.4 | 139.1 |\n",
       "| 97    | 11    | 145.3 | 144.5 | 146.1 |\n",
       "| 97    | 12    | 151.4 | 151.3 | 151.6 |\n",
       "| 97    | 13    | 157.2 | 158.9 | 155.4 |\n",
       "| 97    | 14    | 161.3 | 165.0 | 157.3 |\n",
       "| 97    | 15    | 163.3 | 168.0 | 158.2 |\n",
       "| 98    | 6     | 117.3 | 117.8 | 116.8 |\n",
       "| 98    | 7     | 121.6 | 122.0 | 121.1 |\n",
       "| 98    | 8     | 127.3 | 127.7 | 126.8 |\n",
       "| 98    | 9     | 133.0 | 133.2 | 132.8 |\n",
       "| 98    | 10    | 138.8 | 138.4 | 139.1 |\n",
       "| 98    | 11    | 145.1 | 144.3 | 145.9 |\n",
       "| 98    | 12    | 151.6 | 151.5 | 151.7 |\n",
       "| 98    | 13    | 157.3 | 159.0 | 155.4 |\n",
       "| 98    | 14    | 161.2 | 164.9 | 157.3 |\n",
       "| 98    | 15    | 163.2 | 167.9 | 158.1 |\n",
       "| ... | ... | ... | ... | ... |\n",
       "| 105   | 6     | 116.8 | 117.3 | 116.2 |\n",
       "| 105   | 7     | 121.2 | 121.7 | 120.7 |\n",
       "| 105   | 8     | 127.0 | 127.5 | 126.5 |\n",
       "| 105   | 9     | 132.9 | 133.2 | 132.6 |\n",
       "| 105   | 10    | 138.8 | 138.6 | 139.1 |\n",
       "| 105   | 11    | 145.1 | 144.4 | 145.9 |\n",
       "| 105   | 12    | 151.4 | 151.2 | 151.5 |\n",
       "| 105   | 13    | 157.1 | 158.7 | 155.3 |\n",
       "| 105   | 14    | 161.0 | 164.5 | 157.1 |\n",
       "| 105   | 15    | 163.2 | 167.9 | 157.9 |\n",
       "| 106   | 6     | 116.7 | 117.3 | 116.1 |\n",
       "| 106   | 7     | 121.0 | 121.5 | 120.4 |\n",
       "| 106   | 8     | 127.1 | 127.6 | 126.6 |\n",
       "| 106   | 9     | 132.8 | 133.1 | 132.5 |\n",
       "| 106   | 10    | 138.8 | 138.6 | 139.1 |\n",
       "| 106   | 11    | 145.2 | 144.5 | 145.9 |\n",
       "| 106   | 12    | 151.5 | 151.4 | 151.7 |\n",
       "| 106   | 13    | 157.1 | 158.7 | 155.3 |\n",
       "| 106   | 14    | 161.0 | 164.5 | 157.1 |\n",
       "| 106   | 15    | 163.3 | 168.0 | 158.1 |\n",
       "| 107   | 6     | 116.9 | 117.4 | 116.3 |\n",
       "| 107   | 7     | 121.2 | 121.7 | 120.6 |\n",
       "| 107   | 8     | 127.1 | 127.6 | 126.6 |\n",
       "| 107   | 9     | 133.1 | 133.4 | 132.9 |\n",
       "| 107   | 10    | 139.0 | 138.8 | 139.2 |\n",
       "| 107   | 11    | 145.4 | 144.7 | 146.1 |\n",
       "| 107   | 12    | 151.8 | 151.8 | 151.9 |\n",
       "| 107   | 13    | 157.6 | 159.3 | 155.8 |\n",
       "| 107   | 14    | 161.7 | 165.3 | 157.7 |\n",
       "| 107   | 15    | 164.1 | 168.8 | 158.6 |\n",
       "\n"
      ],
      "text/plain": [
       "    year age total male  female\n",
       "1   96   6   117.1 117.6 116.6 \n",
       "2   96   7   121.4 121.9 120.9 \n",
       "3   96   8   127.1 127.5 126.7 \n",
       "4   96   9   132.8 132.9 132.6 \n",
       "5   96   10  138.8 138.5 139.3 \n",
       "6   96   11  145.0 144.2 145.9 \n",
       "7   96   12  151.4 151.2 151.6 \n",
       "8   96   13  157.1 158.9 155.3 \n",
       "9   96   14  161.1 164.7 157.3 \n",
       "10  96   15  163.2 167.8 158.1 \n",
       "11  97   6   117.2 117.6 116.7 \n",
       "12  97   7   121.5 121.9 120.9 \n",
       "13  97   8   127.3 127.7 126.8 \n",
       "14  97   9   132.9 133.1 132.7 \n",
       "15  97   10  138.8 138.4 139.1 \n",
       "16  97   11  145.3 144.5 146.1 \n",
       "17  97   12  151.4 151.3 151.6 \n",
       "18  97   13  157.2 158.9 155.4 \n",
       "19  97   14  161.3 165.0 157.3 \n",
       "20  97   15  163.3 168.0 158.2 \n",
       "21  98   6   117.3 117.8 116.8 \n",
       "22  98   7   121.6 122.0 121.1 \n",
       "23  98   8   127.3 127.7 126.8 \n",
       "24  98   9   133.0 133.2 132.8 \n",
       "25  98   10  138.8 138.4 139.1 \n",
       "26  98   11  145.1 144.3 145.9 \n",
       "27  98   12  151.6 151.5 151.7 \n",
       "28  98   13  157.3 159.0 155.4 \n",
       "29  98   14  161.2 164.9 157.3 \n",
       "30  98   15  163.2 167.9 158.1 \n",
       "... ...  ... ...   ...   ...   \n",
       "91  105  6   116.8 117.3 116.2 \n",
       "92  105  7   121.2 121.7 120.7 \n",
       "93  105  8   127.0 127.5 126.5 \n",
       "94  105  9   132.9 133.2 132.6 \n",
       "95  105  10  138.8 138.6 139.1 \n",
       "96  105  11  145.1 144.4 145.9 \n",
       "97  105  12  151.4 151.2 151.5 \n",
       "98  105  13  157.1 158.7 155.3 \n",
       "99  105  14  161.0 164.5 157.1 \n",
       "100 105  15  163.2 167.9 157.9 \n",
       "101 106  6   116.7 117.3 116.1 \n",
       "102 106  7   121.0 121.5 120.4 \n",
       "103 106  8   127.1 127.6 126.6 \n",
       "104 106  9   132.8 133.1 132.5 \n",
       "105 106  10  138.8 138.6 139.1 \n",
       "106 106  11  145.2 144.5 145.9 \n",
       "107 106  12  151.5 151.4 151.7 \n",
       "108 106  13  157.1 158.7 155.3 \n",
       "109 106  14  161.0 164.5 157.1 \n",
       "110 106  15  163.3 168.0 158.1 \n",
       "111 107  6   116.9 117.4 116.3 \n",
       "112 107  7   121.2 121.7 120.6 \n",
       "113 107  8   127.1 127.6 126.6 \n",
       "114 107  9   133.1 133.4 132.9 \n",
       "115 107  10  139.0 138.8 139.2 \n",
       "116 107  11  145.4 144.7 146.1 \n",
       "117 107  12  151.8 151.8 151.9 \n",
       "118 107  13  157.6 159.3 155.8 \n",
       "119 107  14  161.7 165.3 157.7 \n",
       "120 107  15  164.1 168.8 158.6 "
      ]
     },
     "metadata": {},
     "output_type": "display_data"
    }
   ],
   "source": [
    "student_height"
   ]
  },
  {
   "cell_type": "code",
   "execution_count": 106,
   "metadata": {},
   "outputs": [
    {
     "data": {
      "image/png": "[encoded data removed]",
      "text/plain": [
       "plot without title"
      ]
     },
     "metadata": {},
     "output_type": "display_data"
    }
   ],
   "source": [
    "student_height %>% gather(sex, height, total:female) %>% filter(sex==\"female\") %>% \n",
    "        ggplot(aes(x=year, y=height)) + geom_point(aes(color=age))"
   ]
  },
  {
   "cell_type": "code",
   "execution_count": 78,
   "metadata": {
    "scrolled": true
   },
   "outputs": [
    {
     "data": {
      "text/html": [
       "<table>\n",
       "<thead><tr><th scope=col>year</th><th scope=col>age</th><th scope=col>total</th><th scope=col>male</th><th scope=col>female</th></tr></thead>\n",
       "<tbody>\n",
       "\t<tr><td> 96  </td><td>15   </td><td>163.2</td><td>167.8</td><td>158.1</td></tr>\n",
       "\t<tr><td> 97  </td><td>15   </td><td>163.3</td><td>168.0</td><td>158.2</td></tr>\n",
       "\t<tr><td> 98  </td><td>15   </td><td>163.2</td><td>167.9</td><td>158.1</td></tr>\n",
       "\t<tr><td> 99  </td><td>15   </td><td>163.2</td><td>168.0</td><td>158.1</td></tr>\n",
       "\t<tr><td>100  </td><td>15   </td><td>163.2</td><td>167.9</td><td>158.1</td></tr>\n",
       "\t<tr><td>101  </td><td>15   </td><td>163.3</td><td>168.0</td><td>158.1</td></tr>\n",
       "\t<tr><td>102  </td><td>15   </td><td>163.3</td><td>167.9</td><td>158.2</td></tr>\n",
       "\t<tr><td>103  </td><td>15   </td><td>163.7</td><td>168.5</td><td>158.4</td></tr>\n",
       "\t<tr><td>104  </td><td>15   </td><td>163.9</td><td>168.7</td><td>158.5</td></tr>\n",
       "\t<tr><td>105  </td><td>15   </td><td>163.2</td><td>167.9</td><td>157.9</td></tr>\n",
       "\t<tr><td>106  </td><td>15   </td><td>163.3</td><td>168.0</td><td>158.1</td></tr>\n",
       "\t<tr><td>107  </td><td>15   </td><td>164.1</td><td>168.8</td><td>158.6</td></tr>\n",
       "</tbody>\n",
       "</table>\n"
      ],
      "text/latex": [
       "\\begin{tabular}{r|lllll}\n",
       " year & age & total & male & female\\\\\n",
       "\\hline\n",
       "\t  96   & 15    & 163.2 & 167.8 & 158.1\\\\\n",
       "\t  97   & 15    & 163.3 & 168.0 & 158.2\\\\\n",
       "\t  98   & 15    & 163.2 & 167.9 & 158.1\\\\\n",
       "\t  99   & 15    & 163.2 & 168.0 & 158.1\\\\\n",
       "\t 100   & 15    & 163.2 & 167.9 & 158.1\\\\\n",
       "\t 101   & 15    & 163.3 & 168.0 & 158.1\\\\\n",
       "\t 102   & 15    & 163.3 & 167.9 & 158.2\\\\\n",
       "\t 103   & 15    & 163.7 & 168.5 & 158.4\\\\\n",
       "\t 104   & 15    & 163.9 & 168.7 & 158.5\\\\\n",
       "\t 105   & 15    & 163.2 & 167.9 & 157.9\\\\\n",
       "\t 106   & 15    & 163.3 & 168.0 & 158.1\\\\\n",
       "\t 107   & 15    & 164.1 & 168.8 & 158.6\\\\\n",
       "\\end{tabular}\n"
      ],
      "text/markdown": [
       "\n",
       "| year | age | total | male | female |\n",
       "|---|---|---|---|---|\n",
       "|  96   | 15    | 163.2 | 167.8 | 158.1 |\n",
       "|  97   | 15    | 163.3 | 168.0 | 158.2 |\n",
       "|  98   | 15    | 163.2 | 167.9 | 158.1 |\n",
       "|  99   | 15    | 163.2 | 168.0 | 158.1 |\n",
       "| 100   | 15    | 163.2 | 167.9 | 158.1 |\n",
       "| 101   | 15    | 163.3 | 168.0 | 158.1 |\n",
       "| 102   | 15    | 163.3 | 167.9 | 158.2 |\n",
       "| 103   | 15    | 163.7 | 168.5 | 158.4 |\n",
       "| 104   | 15    | 163.9 | 168.7 | 158.5 |\n",
       "| 105   | 15    | 163.2 | 167.9 | 157.9 |\n",
       "| 106   | 15    | 163.3 | 168.0 | 158.1 |\n",
       "| 107   | 15    | 164.1 | 168.8 | 158.6 |\n",
       "\n"
      ],
      "text/plain": [
       "   year age total male  female\n",
       "1   96  15  163.2 167.8 158.1 \n",
       "2   97  15  163.3 168.0 158.2 \n",
       "3   98  15  163.2 167.9 158.1 \n",
       "4   99  15  163.2 168.0 158.1 \n",
       "5  100  15  163.2 167.9 158.1 \n",
       "6  101  15  163.3 168.0 158.1 \n",
       "7  102  15  163.3 167.9 158.2 \n",
       "8  103  15  163.7 168.5 158.4 \n",
       "9  104  15  163.9 168.7 158.5 \n",
       "10 105  15  163.2 167.9 157.9 \n",
       "11 106  15  163.3 168.0 158.1 \n",
       "12 107  15  164.1 168.8 158.6 "
      ]
     },
     "metadata": {},
     "output_type": "display_data"
    }
   ],
   "source": [
    "student_height %>% filter(age == 15)# %>% ggplot(aes(x=year, y=male)) + geom_point()"
   ]
  },
  {
   "cell_type": "code",
   "execution_count": 108,
   "metadata": {},
   "outputs": [
    {
     "name": "stderr",
     "output_type": "stream",
     "text": [
      "Parsed with column specification:\n",
      "cols(\n",
      "  `<U+5B78><U+5E74><U+5EA6>` = col_double(),\n",
      "  `<U+5E74><U+9F61>` = col_double(),\n",
      "  `<U+7E3D><U+8A08>` = col_double(),\n",
      "  `<U+7537>` = col_double(),\n",
      "  `<U+5973>` = col_double()\n",
      ")\n"
     ]
    }
   ],
   "source": [
    "student_weight <- read_csv(\"student_weight_6-15old.csv\")"
   ]
  },
  {
   "cell_type": "code",
   "execution_count": 116,
   "metadata": {},
   "outputs": [],
   "source": [
    "colnames(student_weight) <- c(\"year\", \"age\", \"total\", \"male\", \"female\")\n",
    "student_weight$age <- as.factor(student_weight$age)"
   ]
  },
  {
   "cell_type": "code",
   "execution_count": 121,
   "metadata": {},
   "outputs": [
    {
     "data": {
      "image/png": "[encoded data removed]",
      "text/plain": [
       "plot without title"
      ]
     },
     "metadata": {},
     "output_type": "display_data"
    }
   ],
   "source": [
    "student_weight %>% gather(sex, weight, total:female) %>% filter(sex==\"male\") %>% \n",
    "    ggplot(aes(x = year, y = weight)) + geom_point(aes(color=age))"
   ]
  }
 ],
 "metadata": {
  "kernelspec": {
   "display_name": "R",
   "language": "R",
   "name": "ir"
  },
  "language_info": {
   "codemirror_mode": "r",
   "file_extension": ".r",
   "mimetype": "text/x-r-source",
   "name": "R",
   "pygments_lexer": "r",
   "version": "3.6.1"
  }
 },
 "nbformat": 4,
 "nbformat_minor": 4
}
