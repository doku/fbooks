{
 "cells": [
  {
   "cell_type": "code",
   "execution_count": 2,
   "metadata": {},
   "outputs": [
    {
     "name": "stderr",
     "output_type": "stream",
     "text": [
      "Registered S3 methods overwritten by 'ggplot2':\n",
      "  method         from \n",
      "  [.quosures     rlang\n",
      "  c.quosures     rlang\n",
      "  print.quosures rlang\n",
      "Registered S3 method overwritten by 'rvest':\n",
      "  method            from\n",
      "  read_xml.response xml2\n",
      "-- Attaching packages --------------------------------------- tidyverse 1.2.1 --\n",
      "v ggplot2 3.1.1       v purrr   0.3.2  \n",
      "v tibble  2.1.1       v dplyr   0.8.0.1\n",
      "v tidyr   0.8.3       v stringr 1.4.0  \n",
      "v readr   1.3.1       v forcats 0.4.0  \n",
      "-- Conflicts ------------------------------------------ tidyverse_conflicts() --\n",
      "x dplyr::filter() masks stats::filter()\n",
      "x dplyr::lag()    masks stats::lag()\n"
     ]
    }
   ],
   "source": [
    "library(tidyverse)"
   ]
  },
  {
   "cell_type": "code",
   "execution_count": 3,
   "metadata": {},
   "outputs": [
    {
     "name": "stderr",
     "output_type": "stream",
     "text": [
      "Parsed with column specification:\n",
      "cols(\n",
      "  .default = col_double(),\n",
      "  iso_code = col_character(),\n",
      "  continent = col_character(),\n",
      "  location = col_character(),\n",
      "  date = col_date(format = \"\"),\n",
      "  icu_patients = col_logical(),\n",
      "  icu_patients_per_million = col_logical(),\n",
      "  hosp_patients = col_logical(),\n",
      "  hosp_patients_per_million = col_logical(),\n",
      "  weekly_icu_admissions = col_logical(),\n",
      "  weekly_icu_admissions_per_million = col_logical(),\n",
      "  weekly_hosp_admissions = col_logical(),\n",
      "  weekly_hosp_admissions_per_million = col_logical(),\n",
      "  total_tests = col_logical(),\n",
      "  new_tests = col_logical(),\n",
      "  total_tests_per_thousand = col_logical(),\n",
      "  new_tests_per_thousand = col_logical(),\n",
      "  new_tests_smoothed = col_logical(),\n",
      "  new_tests_smoothed_per_thousand = col_logical(),\n",
      "  tests_per_case = col_logical(),\n",
      "  positive_rate = col_logical()\n",
      "  # ... with 4 more columns\n",
      ")\n",
      "See spec(...) for full column specifications.\n",
      "Warning message:\n",
      "\"341404 parsing failures.\n",
      " row             col           expected actual                  file\n",
      "1042 extreme_poverty 1/0/T/F/TRUE/FALSE   1.1  'owid-covid-data.csv'\n",
      "1042 female_smokers  1/0/T/F/TRUE/FALSE   7.1  'owid-covid-data.csv'\n",
      "1042 male_smokers    1/0/T/F/TRUE/FALSE   51.2 'owid-covid-data.csv'\n",
      "1043 extreme_poverty 1/0/T/F/TRUE/FALSE   1.1  'owid-covid-data.csv'\n",
      "1043 female_smokers  1/0/T/F/TRUE/FALSE   7.1  'owid-covid-data.csv'\n",
      ".... ............... .................. ...... .....................\n",
      "See problems(...) for more details.\n",
      "\""
     ]
    }
   ],
   "source": [
    "covid <- read_csv(\"owid-covid-data.csv\")"
   ]
  },
  {
   "cell_type": "code",
   "execution_count": 4,
   "metadata": {},
   "outputs": [
    {
     "data": {
      "text/plain": [
       "\n",
       "                     Afghanistan                          Albania \n",
       "                             322                              253 \n",
       "                         Algeria                          Andorra \n",
       "                             322                              254 \n",
       "                          Angola                         Anguilla \n",
       "                             240                              235 \n",
       "             Antigua and Barbuda                        Argentina \n",
       "                             242                              257 \n",
       "                         Armenia                            Aruba \n",
       "                             322                              244 \n",
       "                       Australia                          Austria \n",
       "                             322                              322 \n",
       "                      Azerbaijan                          Bahamas \n",
       "                             322                              244 \n",
       "                         Bahrain                       Bangladesh \n",
       "                             322                              259 \n",
       "                        Barbados                          Belarus \n",
       "                             244                              322 \n",
       "                         Belgium                           Belize \n",
       "                             320                              238 \n",
       "                           Benin                          Bermuda \n",
       "                             245                              242 \n",
       "                          Bhutan                          Bolivia \n",
       "                             251                              250 \n",
       " Bonaire Sint Eustatius and Saba           Bosnia and Herzegovina \n",
       "                             229                              251 \n",
       "                        Botswana                           Brazil \n",
       "                             230                              322 \n",
       "          British Virgin Islands                           Brunei \n",
       "                             235                              251 \n",
       "                        Bulgaria                     Burkina Faso \n",
       "                             252                              249 \n",
       "                         Burundi                         Cambodia \n",
       "                             230                              322 \n",
       "                        Cameroon                           Canada \n",
       "                             251                              322 \n",
       "                      Cape Verde                   Cayman Islands \n",
       "                             241                              242 \n",
       "        Central African Republic                             Chad \n",
       "                             246                              242 \n",
       "                           Chile                            China \n",
       "                             257                              322 \n",
       "                        Colombia                          Comoros \n",
       "                             255                              199 \n",
       "                           Congo                       Costa Rica \n",
       "                             246                              254 \n",
       "                   Cote d'Ivoire                          Croatia \n",
       "                             248                              322 \n",
       "                            Cuba                          Curacao \n",
       "                             247                              244 \n",
       "                          Cyprus                   Czech Republic \n",
       "                             250                              322 \n",
       "    Democratic Republic of Congo                          Denmark \n",
       "                             249                              322 \n",
       "                        Djibouti                         Dominica \n",
       "                             243                              239 \n",
       "              Dominican Republic                          Ecuador \n",
       "                             322                              322 \n",
       "                           Egypt                      El Salvador \n",
       "                             322                              243 \n",
       "               Equatorial Guinea                          Eritrea \n",
       "                             247                              240 \n",
       "                         Estonia                         Ethiopia \n",
       "                             322                              249 \n",
       "                  Faeroe Islands                 Falkland Islands \n",
       "                             256                              227 \n",
       "                            Fiji                          Finland \n",
       "                             292                              322 \n",
       "                          France                 French Polynesia \n",
       "                             322                              243 \n",
       "                           Gabon                           Gambia \n",
       "                             248                              244 \n",
       "                         Georgia                          Germany \n",
       "                             322                              322 \n",
       "                           Ghana                        Gibraltar \n",
       "                             248                              242 \n",
       "                          Greece                        Greenland \n",
       "                             322                              242 \n",
       "                         Grenada                             Guam \n",
       "                             239                              243 \n",
       "                       Guatemala                         Guernsey \n",
       "                             274                              242 \n",
       "                          Guinea                    Guinea-Bissau \n",
       "                             247                              235 \n",
       "                          Guyana                            Haiti \n",
       "                             247                              242 \n",
       "                        Honduras                        Hong Kong \n",
       "                             248                               72 \n",
       "                         Hungary                          Iceland \n",
       "                             258                              322 \n",
       "                           India                        Indonesia \n",
       "                             322                              322 \n",
       "                   International                             Iran \n",
       "                             322                              322 \n",
       "                            Iraq                          Ireland \n",
       "                             322                              322 \n",
       "                     Isle of Man                           Israel \n",
       "                             241                              322 \n",
       "                           Italy                          Jamaica \n",
       "                             322                              249 \n",
       "                           Japan                           Jersey \n",
       "                             322                              242 \n",
       "                          Jordan                       Kazakhstan \n",
       "                             255                              249 \n",
       "                           Kenya                           Kosovo \n",
       "                             256                              248 \n",
       "                          Kuwait                       Kyrgyzstan \n",
       "                             322                              243 \n",
       "                            Laos                           Latvia \n",
       "                             237                              266 \n",
       "                         Lebanon                          Lesotho \n",
       "                             322                              186 \n",
       "                         Liberia                            Libya \n",
       "                             245                              258 \n",
       "                   Liechtenstein                        Lithuania \n",
       "                             252                              322 \n",
       "                      Luxembourg                        Macedonia \n",
       "                             322                              322 \n",
       "                      Madagascar                           Malawi \n",
       "                             241                              233 \n",
       "                        Malaysia                         Maldives \n",
       "                             322                              252 \n",
       "                            Mali                            Malta \n",
       "                             236                              285 \n",
       "                Marshall Islands                       Mauritania \n",
       "                              19                              247 \n",
       "                       Mauritius                           Mexico \n",
       "                             242                              322 \n",
       "                         Moldova                           Monaco \n",
       "                             252                              322 \n",
       "                        Mongolia                       Montenegro \n",
       "                             248                              244 \n",
       "                      Montserrat                          Morocco \n",
       "                             241                              284 \n",
       "                      Mozambique                          Myanmar \n",
       "                             239                              240 \n",
       "                         Namibia                            Nepal \n",
       "                             247                              322 \n",
       "                     Netherlands                    New Caledonia \n",
       "                             322                              241 \n",
       "                     New Zealand                        Nicaragua \n",
       "                             322                              243 \n",
       "                           Niger                          Nigeria \n",
       "                             241                              322 \n",
       "        Northern Mariana Islands                           Norway \n",
       "                             231                              322 \n",
       "                            Oman                         Pakistan \n",
       "                             322                              322 \n",
       "                       Palestine                           Panama \n",
       "                             255                              253 \n",
       "                Papua New Guinea                         Paraguay \n",
       "                             241                              255 \n",
       "                            Peru                      Philippines \n",
       "                             263                              322 \n",
       "                          Poland                         Portugal \n",
       "                             256                              265 \n",
       "                     Puerto Rico                            Qatar \n",
       "                             234                              322 \n",
       "                         Romania                           Russia \n",
       "                             322                              322 \n",
       "                          Rwanda            Saint Kitts and Nevis \n",
       "                             247                              236 \n",
       "                     Saint Lucia Saint Vincent and the Grenadines \n",
       "                             247                              244 \n",
       "                      San Marino            Sao Tome and Principe \n",
       "                             322                              222 \n",
       "                    Saudi Arabia                          Senegal \n",
       "                             260                              263 \n",
       "                          Serbia                       Seychelles \n",
       "                             265                              247 \n",
       "                    Sierra Leone                        Singapore \n",
       "                             230                              322 \n",
       "       Sint Maarten (Dutch part)                         Slovakia \n",
       "                             254                              256 \n",
       "                        Slovenia                  Solomon Islands \n",
       "                             257                               32 \n",
       "                         Somalia                     South Africa \n",
       "                             245                              284 \n",
       "                     South Korea                      South Sudan \n",
       "                             322                              225 \n",
       "                           Spain                        Sri Lanka \n",
       "                             321                              322 \n",
       "                           Sudan                         Suriname \n",
       "                             248                              242 \n",
       "                       Swaziland                           Sweden \n",
       "                             247                              319 \n",
       "                     Switzerland                            Syria \n",
       "                             322                              239 \n",
       "                          Taiwan                       Tajikistan \n",
       "                             322                              200 \n",
       "                        Tanzania                         Thailand \n",
       "                             245                              322 \n",
       "                           Timor                             Togo \n",
       "                             240                              258 \n",
       "             Trinidad and Tobago                          Tunisia \n",
       "                             249                              254 \n",
       "                          Turkey         Turks and Caicos Islands \n",
       "                             248                              237 \n",
       "                          Uganda                          Ukraine \n",
       "                             240                              253 \n",
       "            United Arab Emirates                   United Kingdom \n",
       "                             322                              322 \n",
       "                   United States     United States Virgin Islands \n",
       "                             322                              238 \n",
       "                         Uruguay                       Uzbekistan \n",
       "                             247                              246 \n",
       "                         Vanuatu                          Vatican \n",
       "                               6                              250 \n",
       "                       Venezuela                          Vietnam \n",
       "                             247                              322 \n",
       "               Wallis and Futuna                   Western Sahara \n",
       "                              31                              205 \n",
       "                           World                            Yemen \n",
       "                             322                              221 \n",
       "                          Zambia                         Zimbabwe \n",
       "                             243                              241 "
      ]
     },
     "metadata": {},
     "output_type": "display_data"
    }
   ],
   "source": [
    "table(covid$location)"
   ]
  },
  {
   "cell_type": "code",
   "execution_count": 5,
   "metadata": {},
   "outputs": [
    {
     "data": {
      "text/html": [
       "<ol class=list-inline>\n",
       "\t<li>322</li>\n",
       "\t<li>50</li>\n",
       "</ol>\n"
      ],
      "text/latex": [
       "\\begin{enumerate*}\n",
       "\\item 322\n",
       "\\item 50\n",
       "\\end{enumerate*}\n"
      ],
      "text/markdown": [
       "1. 322\n",
       "2. 50\n",
       "\n",
       "\n"
      ],
      "text/plain": [
       "[1] 322  50"
      ]
     },
     "metadata": {},
     "output_type": "display_data"
    }
   ],
   "source": [
    "dim(covid[covid$location == \"United States\",])"
   ]
  },
  {
   "cell_type": "code",
   "execution_count": 6,
   "metadata": {},
   "outputs": [
    {
     "data": {
      "text/html": [
       "<table>\n",
       "<thead><tr><th scope=col>iso_code</th><th scope=col>continent</th><th scope=col>location</th><th scope=col>date</th><th scope=col>total_cases</th><th scope=col>new_cases</th><th scope=col>new_cases_smoothed</th><th scope=col>total_deaths</th><th scope=col>new_deaths</th><th scope=col>new_deaths_smoothed</th><th scope=col>total_cases_per_million</th><th scope=col>new_cases_per_million</th><th scope=col>new_cases_smoothed_per_million</th><th scope=col>total_deaths_per_million</th><th scope=col>new_deaths_per_million</th><th scope=col>new_deaths_smoothed_per_million</th><th scope=col>reproduction_rate</th><th scope=col>icu_patients</th><th scope=col>icu_patients_per_million</th><th scope=col>hosp_patients</th></tr></thead>\n",
       "<tbody>\n",
       "\t<tr><td>USA          </td><td>North America</td><td>United States</td><td>2019-12-31   </td><td>NA           </td><td>0            </td><td>NA           </td><td>NA           </td><td>0            </td><td>NA           </td><td>NA           </td><td>0            </td><td>NA           </td><td>NA           </td><td>0            </td><td>NA           </td><td>NA           </td><td>NA           </td><td>NA           </td><td>NA           </td></tr>\n",
       "\t<tr><td>USA          </td><td>North America</td><td>United States</td><td>2020-01-01   </td><td>NA           </td><td>0            </td><td>NA           </td><td>NA           </td><td>0            </td><td>NA           </td><td>NA           </td><td>0            </td><td>NA           </td><td>NA           </td><td>0            </td><td>NA           </td><td>NA           </td><td>NA           </td><td>NA           </td><td>NA           </td></tr>\n",
       "\t<tr><td>USA          </td><td>North America</td><td>United States</td><td>2020-01-02   </td><td>NA           </td><td>0            </td><td>NA           </td><td>NA           </td><td>0            </td><td>NA           </td><td>NA           </td><td>0            </td><td>NA           </td><td>NA           </td><td>0            </td><td>NA           </td><td>NA           </td><td>NA           </td><td>NA           </td><td>NA           </td></tr>\n",
       "\t<tr><td>USA          </td><td>North America</td><td>United States</td><td>2020-01-03   </td><td>NA           </td><td>0            </td><td>NA           </td><td>NA           </td><td>0            </td><td>NA           </td><td>NA           </td><td>0            </td><td>NA           </td><td>NA           </td><td>0            </td><td>NA           </td><td>NA           </td><td>NA           </td><td>NA           </td><td>NA           </td></tr>\n",
       "\t<tr><td>USA          </td><td>North America</td><td>United States</td><td>2020-01-04   </td><td>NA           </td><td>0            </td><td>NA           </td><td>NA           </td><td>0            </td><td>NA           </td><td>NA           </td><td>0            </td><td>NA           </td><td>NA           </td><td>0            </td><td>NA           </td><td>NA           </td><td>NA           </td><td>NA           </td><td>NA           </td></tr>\n",
       "\t<tr><td>USA          </td><td>North America</td><td>United States</td><td>2020-01-05   </td><td>NA           </td><td>0            </td><td>NA           </td><td>NA           </td><td>0            </td><td>NA           </td><td>NA           </td><td>0            </td><td>NA           </td><td>NA           </td><td>0            </td><td>NA           </td><td>NA           </td><td>NA           </td><td>NA           </td><td>NA           </td></tr>\n",
       "</tbody>\n",
       "</table>\n"
      ],
      "text/latex": [
       "\\begin{tabular}{r|llllllllllllllllllll}\n",
       " iso\\_code & continent & location & date & total\\_cases & new\\_cases & new\\_cases\\_smoothed & total\\_deaths & new\\_deaths & new\\_deaths\\_smoothed & total\\_cases\\_per\\_million & new\\_cases\\_per\\_million & new\\_cases\\_smoothed\\_per\\_million & total\\_deaths\\_per\\_million & new\\_deaths\\_per\\_million & new\\_deaths\\_smoothed\\_per\\_million & reproduction\\_rate & icu\\_patients & icu\\_patients\\_per\\_million & hosp\\_patients\\\\\n",
       "\\hline\n",
       "\t USA           & North America & United States & 2019-12-31    & NA            & 0             & NA            & NA            & 0             & NA            & NA            & 0             & NA            & NA            & 0             & NA            & NA            & NA            & NA            & NA           \\\\\n",
       "\t USA           & North America & United States & 2020-01-01    & NA            & 0             & NA            & NA            & 0             & NA            & NA            & 0             & NA            & NA            & 0             & NA            & NA            & NA            & NA            & NA           \\\\\n",
       "\t USA           & North America & United States & 2020-01-02    & NA            & 0             & NA            & NA            & 0             & NA            & NA            & 0             & NA            & NA            & 0             & NA            & NA            & NA            & NA            & NA           \\\\\n",
       "\t USA           & North America & United States & 2020-01-03    & NA            & 0             & NA            & NA            & 0             & NA            & NA            & 0             & NA            & NA            & 0             & NA            & NA            & NA            & NA            & NA           \\\\\n",
       "\t USA           & North America & United States & 2020-01-04    & NA            & 0             & NA            & NA            & 0             & NA            & NA            & 0             & NA            & NA            & 0             & NA            & NA            & NA            & NA            & NA           \\\\\n",
       "\t USA           & North America & United States & 2020-01-05    & NA            & 0             & NA            & NA            & 0             & NA            & NA            & 0             & NA            & NA            & 0             & NA            & NA            & NA            & NA            & NA           \\\\\n",
       "\\end{tabular}\n"
      ],
      "text/markdown": [
       "\n",
       "| iso_code | continent | location | date | total_cases | new_cases | new_cases_smoothed | total_deaths | new_deaths | new_deaths_smoothed | total_cases_per_million | new_cases_per_million | new_cases_smoothed_per_million | total_deaths_per_million | new_deaths_per_million | new_deaths_smoothed_per_million | reproduction_rate | icu_patients | icu_patients_per_million | hosp_patients |\n",
       "|---|---|---|---|---|---|---|---|---|---|---|---|---|---|---|---|---|---|---|---|\n",
       "| USA           | North America | United States | 2019-12-31    | NA            | 0             | NA            | NA            | 0             | NA            | NA            | 0             | NA            | NA            | 0             | NA            | NA            | NA            | NA            | NA            |\n",
       "| USA           | North America | United States | 2020-01-01    | NA            | 0             | NA            | NA            | 0             | NA            | NA            | 0             | NA            | NA            | 0             | NA            | NA            | NA            | NA            | NA            |\n",
       "| USA           | North America | United States | 2020-01-02    | NA            | 0             | NA            | NA            | 0             | NA            | NA            | 0             | NA            | NA            | 0             | NA            | NA            | NA            | NA            | NA            |\n",
       "| USA           | North America | United States | 2020-01-03    | NA            | 0             | NA            | NA            | 0             | NA            | NA            | 0             | NA            | NA            | 0             | NA            | NA            | NA            | NA            | NA            |\n",
       "| USA           | North America | United States | 2020-01-04    | NA            | 0             | NA            | NA            | 0             | NA            | NA            | 0             | NA            | NA            | 0             | NA            | NA            | NA            | NA            | NA            |\n",
       "| USA           | North America | United States | 2020-01-05    | NA            | 0             | NA            | NA            | 0             | NA            | NA            | 0             | NA            | NA            | 0             | NA            | NA            | NA            | NA            | NA            |\n",
       "\n"
      ],
      "text/plain": [
       "  iso_code continent     location      date       total_cases new_cases\n",
       "1 USA      North America United States 2019-12-31 NA          0        \n",
       "2 USA      North America United States 2020-01-01 NA          0        \n",
       "3 USA      North America United States 2020-01-02 NA          0        \n",
       "4 USA      North America United States 2020-01-03 NA          0        \n",
       "5 USA      North America United States 2020-01-04 NA          0        \n",
       "6 USA      North America United States 2020-01-05 NA          0        \n",
       "  new_cases_smoothed total_deaths new_deaths new_deaths_smoothed\n",
       "1 NA                 NA           0          NA                 \n",
       "2 NA                 NA           0          NA                 \n",
       "3 NA                 NA           0          NA                 \n",
       "4 NA                 NA           0          NA                 \n",
       "5 NA                 NA           0          NA                 \n",
       "6 NA                 NA           0          NA                 \n",
       "  total_cases_per_million new_cases_per_million new_cases_smoothed_per_million\n",
       "1 NA                      0                     NA                            \n",
       "2 NA                      0                     NA                            \n",
       "3 NA                      0                     NA                            \n",
       "4 NA                      0                     NA                            \n",
       "5 NA                      0                     NA                            \n",
       "6 NA                      0                     NA                            \n",
       "  total_deaths_per_million new_deaths_per_million\n",
       "1 NA                       0                     \n",
       "2 NA                       0                     \n",
       "3 NA                       0                     \n",
       "4 NA                       0                     \n",
       "5 NA                       0                     \n",
       "6 NA                       0                     \n",
       "  new_deaths_smoothed_per_million reproduction_rate icu_patients\n",
       "1 NA                              NA                NA          \n",
       "2 NA                              NA                NA          \n",
       "3 NA                              NA                NA          \n",
       "4 NA                              NA                NA          \n",
       "5 NA                              NA                NA          \n",
       "6 NA                              NA                NA          \n",
       "  icu_patients_per_million hosp_patients\n",
       "1 NA                       NA           \n",
       "2 NA                       NA           \n",
       "3 NA                       NA           \n",
       "4 NA                       NA           \n",
       "5 NA                       NA           \n",
       "6 NA                       NA           "
      ]
     },
     "metadata": {},
     "output_type": "display_data"
    }
   ],
   "source": [
    "head(covid[covid$iso_code == \"USA\",1:20])"
   ]
  },
  {
   "cell_type": "code",
   "execution_count": 12,
   "metadata": {},
   "outputs": [
    {
     "data": {
      "text/html": [
       "<table>\n",
       "<thead><tr><th scope=col>total_cases</th><th scope=col>date</th></tr></thead>\n",
       "<tbody>\n",
       "\t<tr><td>1         </td><td>2020-01-21</td></tr>\n",
       "\t<tr><td>1         </td><td>2020-01-22</td></tr>\n",
       "\t<tr><td>1         </td><td>2020-01-23</td></tr>\n",
       "\t<tr><td>1         </td><td>2020-01-24</td></tr>\n",
       "\t<tr><td>2         </td><td>2020-01-25</td></tr>\n",
       "\t<tr><td>2         </td><td>2020-01-26</td></tr>\n",
       "</tbody>\n",
       "</table>\n"
      ],
      "text/latex": [
       "\\begin{tabular}{r|ll}\n",
       " total\\_cases & date\\\\\n",
       "\\hline\n",
       "\t 1          & 2020-01-21\\\\\n",
       "\t 1          & 2020-01-22\\\\\n",
       "\t 1          & 2020-01-23\\\\\n",
       "\t 1          & 2020-01-24\\\\\n",
       "\t 2          & 2020-01-25\\\\\n",
       "\t 2          & 2020-01-26\\\\\n",
       "\\end{tabular}\n"
      ],
      "text/markdown": [
       "\n",
       "| total_cases | date |\n",
       "|---|---|\n",
       "| 1          | 2020-01-21 |\n",
       "| 1          | 2020-01-22 |\n",
       "| 1          | 2020-01-23 |\n",
       "| 1          | 2020-01-24 |\n",
       "| 2          | 2020-01-25 |\n",
       "| 2          | 2020-01-26 |\n",
       "\n"
      ],
      "text/plain": [
       "  total_cases date      \n",
       "1 1           2020-01-21\n",
       "2 1           2020-01-22\n",
       "3 1           2020-01-23\n",
       "4 1           2020-01-24\n",
       "5 2           2020-01-25\n",
       "6 2           2020-01-26"
      ]
     },
     "metadata": {},
     "output_type": "display_data"
    }
   ],
   "source": [
    "USA_cases <- covid[!is.na(covid$iso_code), ] %>% filter(iso_code == \"USA\") %>% select(\"total_cases\", \"date\") %>% na.omit()\n",
    "head(USA_cases)"
   ]
  },
  {
   "cell_type": "code",
   "execution_count": null,
   "metadata": {},
   "outputs": [],
   "source": []
  },
  {
   "cell_type": "code",
   "execution_count": 8,
   "metadata": {},
   "outputs": [
    {
     "data": {
      "image/png": "[encoded data removed]",
      "text/plain": [
       "plot without title"
      ]
     },
     "metadata": {},
     "output_type": "display_data"
    }
   ],
   "source": [
    "plot(USA_cases[[2]], USA_cases[[1]], type=\"l\")"
   ]
  },
  {
   "cell_type": "code",
   "execution_count": 9,
   "metadata": {},
   "outputs": [
    {
     "data": {
      "image/png": "[encoded data removed]",
      "text/plain": [
       "plot without title"
      ]
     },
     "metadata": {},
     "output_type": "display_data"
    }
   ],
   "source": [
    "covid[!is.na(covid$iso_code), ] %>% filter(iso_code == \"USA\") %>% select(date,new_cases) %>% na.omit() %>%\n",
    "    plot(type=\"l\")"
   ]
  },
  {
   "cell_type": "code",
   "execution_count": 10,
   "metadata": {},
   "outputs": [],
   "source": [
    "USA <- covid[!is.na(covid$iso_code), ] %>% filter(iso_code == \"USA\")"
   ]
  },
  {
   "cell_type": "code",
   "execution_count": null,
   "metadata": {},
   "outputs": [
    {
     "name": "stderr",
     "output_type": "stream",
     "text": [
      "`geom_smooth()` using method = 'loess' and formula 'y ~ x'\n",
      "Warning message:\n",
      "\"Removed 61 rows containing non-finite values (stat_smooth).\"Warning message:\n",
      "\"Removed 61 rows containing missing values (geom_path).\""
     ]
    },
    {
     "data": {
      "image/png": "[encoded data removed]",
      "text/plain": [
       "plot without title"
      ]
     },
     "metadata": {},
     "output_type": "display_data"
    }
   ],
   "source": [
    "USA[, 1:12] %>% ggplot(aes(x = date, y = total_deaths)) + geom_line() +geom_smooth()# +xlim(1, 20)"
   ]
  }
 ],
 "metadata": {
  "kernelspec": {
   "display_name": "Python 3",
   "language": "python",
   "name": "python3"
  },
  "language_info": {
   "codemirror_mode": {
    "name": "ipython",
    "version": 3
   },
   "file_extension": ".py",
   "mimetype": "text/x-python",
   "name": "python",
   "nbconvert_exporter": "python",
   "pygments_lexer": "ipython3",
   "version": "3.8.5"
  }
 },
 "nbformat": 4,
 "nbformat_minor": 4
}
